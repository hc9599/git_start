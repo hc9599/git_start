{
 "cells": [
  {
   "cell_type": "code",
   "execution_count": 10,
   "metadata": {},
   "outputs": [
    {
     "name": "stdout",
     "output_type": "stream",
     "text": [
      "0.0375\n",
      "you are normal\n"
     ]
    }
   ],
   "source": [
    "height_m = 40\n",
    "weight_kg = 60\n",
    "bmi = weight_kg / (height_m ** 2)\n",
    "print(bmi)\n",
    "if bmi>25:\n",
    "    print(\"you're overweight\")\n",
    "else:\n",
    "    print(\"you are normal\")"
   ]
  },
  {
   "cell_type": "code",
   "execution_count": 9,
   "metadata": {},
   "outputs": [
    {
     "name": "stdout",
     "output_type": "stream",
     "text": [
      "a is greater than b\n"
     ]
    }
   ],
   "source": [
    "a = 6\n",
    "b = 4\n",
    "if a>b:\n",
    "    print(\"a is greater than b\")\n",
    "else:\n",
    "    print(\"a is smaller than b\")"
   ]
  },
  {
   "cell_type": "code",
   "execution_count": 2,
   "metadata": {},
   "outputs": [
    {
     "name": "stdout",
     "output_type": "stream",
     "text": [
      "a is 10 times greater than b\n"
     ]
    }
   ],
   "source": [
    "a = 20\n",
    "b = 8\n",
    "if a>b+10:\n",
    "    print(\"a is 10 times greater than b\")\n",
    "else:\n",
    "    print(\"b is greater than a\")\n",
    "    "
   ]
  },
  {
   "cell_type": "code",
   "execution_count": 1,
   "metadata": {},
   "outputs": [],
   "source": [
    "def convert(miles):\n",
    "    print(\"The conversion from miles to km is:\")\n",
    "    return 1.6 * miles\n"
   ]
  },
  {
   "cell_type": "code",
   "execution_count": 3,
   "metadata": {},
   "outputs": [
    {
     "name": "stdout",
     "output_type": "stream",
     "text": [
      "The conversion from miles to km is:\n",
      "12.8\n"
     ]
    }
   ],
   "source": [
    "s = convert(8)\n",
    "print(s)"
   ]
  },
  {
   "cell_type": "code",
   "execution_count": 6,
   "metadata": {},
   "outputs": [
    {
     "name": "stdout",
     "output_type": "stream",
     "text": [
      "HimanshuChandan\n"
     ]
    }
   ],
   "source": [
    "a = \"Himanshu\"\n",
    "b = \"Chandan\"\n",
    "c= a +  b\n",
    "print(c)\n"
   ]
  },
  {
   "cell_type": "code",
   "execution_count": 10,
   "metadata": {},
   "outputs": [
    {
     "name": "stdout",
     "output_type": "stream",
     "text": [
      "The original list is ['apple', 'Banana', 'Microsoft']\n",
      "The list after change ['Microsoft', 'Banana', 'apple']\n"
     ]
    }
   ],
   "source": [
    "# fruits.append() to append elements in the list\n",
    "# fruits.pop() to delete the last element of the list\n",
    "\n",
    "fruits = [\"apple\" , \"Banana\" , \"Microsoft\"]\n",
    "print(\"The original list is\", fruits)\n",
    "temp = fruits[0]\n",
    "fruits[0] = fruits[2]\n",
    "fruits[2] = temp\n",
    "print(\"The list after change\", fruits)"
   ]
  },
  {
   "cell_type": "code",
   "execution_count": 27,
   "metadata": {},
   "outputs": [
    {
     "name": "stdout",
     "output_type": "stream",
     "text": [
      "19\n"
     ]
    }
   ],
   "source": [
    "# using loop in the Python \n",
    "\n",
    "a = [2, 3, 6, 8]\n",
    "s = 0\n",
    "for e in a:\n",
    "    s = s + e\n",
    "print(s)"
   ]
  },
  {
   "cell_type": "code",
   "execution_count": 35,
   "metadata": {},
   "outputs": [
    {
     "name": "stdout",
     "output_type": "stream",
     "text": [
      "1683\n"
     ]
    }
   ],
   "source": [
    "# Sum of first 100 numbers which are divisible by 3\n",
    "\n",
    "a = list(range(1, 101))\n",
    "s = 0 \n",
    "for e in a:\n",
    "    if e%3==0:\n",
    "        s += e\n",
    "    \n",
    "print(s)"
   ]
  },
  {
   "cell_type": "code",
   "execution_count": 41,
   "metadata": {},
   "outputs": [
    {
     "name": "stdout",
     "output_type": "stream",
     "text": [
      "15\n",
      "30\n",
      "45\n",
      "60\n",
      "75\n",
      "90\n",
      "315\n"
     ]
    }
   ],
   "source": [
    "# Sum of numbers less than 100 which are divisible by 3 & 5\n",
    "s = 0\n",
    "for e in range(1,99):\n",
    "    if e % 3 == 0 and e%5== 0:\n",
    "        print(e)\n",
    "        s += e\n",
    "print(s)"
   ]
  },
  {
   "cell_type": "code",
   "execution_count": 44,
   "metadata": {},
   "outputs": [
    {
     "name": "stdout",
     "output_type": "stream",
     "text": [
      "-17\n"
     ]
    }
   ],
   "source": [
    "given_list3 = [7, 5, 4, 4, 3, 1, -2, -3, -5, -7]\n",
    "s = 0\n",
    "for e in given_list3:\n",
    "    if e<0:\n",
    "        s += e\n",
    "print(s)"
   ]
  },
  {
   "cell_type": "code",
   "execution_count": null,
   "metadata": {},
   "outputs": [],
   "source": [
    "given_list3 = [7, 5, 4, 4, 3, 1, -2, -3, -5, -7]\n",
    "k = 0\n",
    "l = 0 \n",
    "while k<len(given_list3) and given_list3[k]<0:\n",
    "    l += given_list3[k]\n",
    "    k += 1\n",
    "print(s)    "
   ]
  },
  {
   "cell_type": "code",
   "execution_count": null,
   "metadata": {},
   "outputs": [],
   "source": []
  }
 ],
 "metadata": {
  "kernelspec": {
   "display_name": "Python 3",
   "language": "python",
   "name": "python3"
  },
  "language_info": {
   "codemirror_mode": {
    "name": "ipython",
    "version": 3
   },
   "file_extension": ".py",
   "mimetype": "text/x-python",
   "name": "python",
   "nbconvert_exporter": "python",
   "pygments_lexer": "ipython3",
   "version": "3.6.4"
  }
 },
 "nbformat": 4,
 "nbformat_minor": 2
}
